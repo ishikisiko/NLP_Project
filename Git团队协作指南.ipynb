{
 "cells": [
  {
   "cell_type": "markdown",
   "id": "cfa45f0f",
   "metadata": {},
   "source": [
    "# Git 团队协作完整操作指南\n",
    "\n",
    "这个 Notebook 包含了团队协作中所有必要的 Git 操作。每个操作都有详细说明和可执行的命令。\n",
    "\n",
    "**注意事项：**\n",
    "- 🔵 代表信息查看类操作（安全）\n",
    "- 🟢 代表常规操作\n",
    "- 🟡 代表需要注意的操作\n",
    "- 🔴 代表危险操作（需谨慎）\n",
    "\n",
    "**使用方法：** 每个代码块前都有说明，按需执行对应的命令即可。"
   ]
  },
  {
   "cell_type": "markdown",
   "id": "81d06387",
   "metadata": {},
   "source": [
    "## 1. 🟢 配置 Git 用户信息\n",
    "\n",
    "这是使用 Git 的第一步！需要设置你的用户名和邮箱，这样团队成员才能知道每次提交是谁做的。\n",
    "\n",
    "**操作说明：**\n",
    "- 将下面的 \"你的名字\" 替换为你的真实姓名或昵称\n",
    "- 将邮箱替换为你的邮箱地址\n",
    "- 这个配置是全局的，只需要设置一次"
   ]
  },
  {
   "cell_type": "code",
   "execution_count": null,
   "id": "51ae44c1",
   "metadata": {
    "vscode": {
     "languageId": "powershell"
    }
   },
   "outputs": [],
   "source": [
    "# 设置全局用户名\n",
    "git config --global user.name \"你的名字\"\n",
    "\n",
    "# 设置全局邮箱\n",
    "git config --global user.email \"your.email@example.com\"\n",
    "\n",
    "# 查看配置是否成功\n",
    "git config --list | Select-String \"user\""
   ]
  },
  {
   "cell_type": "markdown",
   "id": "e9ead05f",
   "metadata": {},
   "source": [
    "## 2. 🟢 克隆远程仓库\n",
    "\n",
    "从 GitHub、GitLab 等平台克隆项目到本地电脑。\n",
    "\n",
    "**操作说明：**\n",
    "- 将 `仓库地址` 替换为实际的仓库 URL（比如：https://github.com/username/project.git）\n",
    "- 这个操作会在当前目录下创建一个新文件夹\n",
    "- **只在第一次加入项目时使用**"
   ]
  },
  {
   "cell_type": "code",
   "execution_count": null,
   "id": "a6ae27dc",
   "metadata": {
    "vscode": {
     "languageId": "powershell"
    }
   },
   "outputs": [],
   "source": [
    "# 克隆仓库（将下面的地址替换为实际仓库地址）\n",
    "git clone https://github.com/username/repository.git\n",
    "\n",
    "# 克隆后进入项目目录\n",
    "# cd repository"
   ]
  },
  {
   "cell_type": "markdown",
   "id": "8296c375",
   "metadata": {},
   "source": [
    "## 3. 🔵 查看仓库状态\n",
    "\n",
    "查看当前工作目录的状态：哪些文件被修改了、哪些文件还没有提交等。\n",
    "\n",
    "**操作说明：**\n",
    "- 这是最常用的命令之一\n",
    "- 随时可以运行，用来了解当前状态\n",
    "- **建议在每次操作前后都执行一次**"
   ]
  },
  {
   "cell_type": "code",
   "execution_count": null,
   "id": "bf8a26d0",
   "metadata": {
    "vscode": {
     "languageId": "powershell"
    }
   },
   "outputs": [],
   "source": [
    "# 查看当前状态\n",
    "git status"
   ]
  },
  {
   "cell_type": "markdown",
   "id": "b61d2b73",
   "metadata": {},
   "source": [
    "## 4. 🟢 拉取最新代码\n",
    "\n",
    "从远程仓库获取最新的代码更新。**每天开始工作前必做！**\n",
    "\n",
    "**操作说明：**\n",
    "- 在开始修改代码之前执行\n",
    "- 确保你的本地代码是最新的，避免冲突\n",
    "- 如果有团队成员推送了新代码，这个命令会自动合并"
   ]
  },
  {
   "cell_type": "code",
   "execution_count": null,
   "id": "2119073e",
   "metadata": {
    "vscode": {
     "languageId": "powershell"
    }
   },
   "outputs": [],
   "source": [
    "# 拉取远程仓库的最新代码\n",
    "git pull\n",
    "\n",
    "# 如果需要指定分支，使用：\n",
    "# git pull origin main"
   ]
  },
  {
   "cell_type": "markdown",
   "id": "be138632",
   "metadata": {},
   "source": [
    "## 5. 🟢 查看所有分支\n",
    "\n",
    "查看本地和远程的所有分支，了解项目的分支结构。\n",
    "\n",
    "**操作说明：**\n",
    "- 可以看到当前所在的分支（会有 * 标记）\n",
    "- 了解有哪些分支可以切换"
   ]
  },
  {
   "cell_type": "code",
   "execution_count": null,
   "id": "422e89af",
   "metadata": {
    "vscode": {
     "languageId": "powershell"
    }
   },
   "outputs": [],
   "source": [
    "# 查看本地所有分支\n",
    "git branch\n",
    "\n",
    "# 查看所有分支（包括远程分支）\n",
    "git branch -a"
   ]
  },
  {
   "cell_type": "markdown",
   "id": "5be802ab",
   "metadata": {},
   "source": [
    "## 6. 🟢 创建新分支\n",
    "\n",
    "创建一个新的分支来开发新功能或修复 bug。**不要直接在 main 分支上工作！**\n",
    "\n",
    "**操作说明：**\n",
    "- 将 `新分支名` 替换为有意义的名称（如：feature-login, fix-bug-123）\n",
    "- 创建后会自动切换到新分支\n",
    "- 分支名建议使用英文和连字符"
   ]
  },
  {
   "cell_type": "code",
   "execution_count": null,
   "id": "eb498ade",
   "metadata": {
    "vscode": {
     "languageId": "powershell"
    }
   },
   "outputs": [],
   "source": [
    "# 创建新分支并切换到该分支\n",
    "git checkout -b 新分支名\n",
    "\n",
    "# 或者使用新命令（Git 2.23+）\n",
    "# git switch -c 新分支名"
   ]
  },
  {
   "cell_type": "markdown",
   "id": "7c4ddde2",
   "metadata": {},
   "source": [
    "## 7. 🟢 切换分支\n",
    "\n",
    "在不同的分支之间切换，比如从开发分支切换回主分支。\n",
    "\n",
    "**操作说明：**\n",
    "- 切换前确保当前分支的修改已提交或暂存\n",
    "- 将 `分支名` 替换为要切换到的分支名称"
   ]
  },
  {
   "cell_type": "code",
   "execution_count": null,
   "id": "9e0b0021",
   "metadata": {
    "vscode": {
     "languageId": "powershell"
    }
   },
   "outputs": [],
   "source": [
    "# 切换到指定分支\n",
    "git checkout 分支名\n",
    "\n",
    "# 或者使用新命令（Git 2.23+）\n",
    "# git switch 分支名\n",
    "\n",
    "# 切换回主分支\n",
    "# git checkout main"
   ]
  },
  {
   "cell_type": "markdown",
   "id": "36bf4a52",
   "metadata": {},
   "source": [
    "## 8. 🟢 添加文件到暂存区\n",
    "\n",
    "将修改的文件添加到暂存区，准备提交。\n",
    "\n",
    "**操作说明：**\n",
    "- `git add .` 会添加所有修改的文件（最常用）\n",
    "- `git add 文件名` 只添加指定的文件\n",
    "- 添加后可以用 `git status` 查看暂存状态"
   ]
  },
  {
   "cell_type": "code",
   "execution_count": null,
   "id": "284dbec7",
   "metadata": {
    "vscode": {
     "languageId": "powershell"
    }
   },
   "outputs": [],
   "source": [
    "# 添加所有修改的文件（推荐）\n",
    "git add .\n",
    "\n",
    "# 添加指定文件\n",
    "# git add 文件名.txt\n",
    "\n",
    "# 添加多个指定文件\n",
    "# git add 文件1.py 文件2.py\n",
    "\n",
    "# 查看暂存状态\n",
    "git status"
   ]
  },
  {
   "cell_type": "markdown",
   "id": "d78afcea",
   "metadata": {},
   "source": [
    "## 9. 🟢 提交更改\n",
    "\n",
    "将暂存区的文件提交到本地仓库，并添加提交说明。\n",
    "\n",
    "**操作说明：**\n",
    "- 提交信息要清楚说明做了什么修改\n",
    "- 使用中文或英文都可以\n",
    "- 好的提交信息示例：\n",
    "  - \"添加用户登录功能\"\n",
    "  - \"修复数据加载bug\"\n",
    "  - \"更新README文档\""
   ]
  },
  {
   "cell_type": "code",
   "execution_count": null,
   "id": "389cdc46",
   "metadata": {
    "vscode": {
     "languageId": "powershell"
    }
   },
   "outputs": [],
   "source": [
    "# 提交更改（将引号内的文字替换为你的提交说明）\n",
    "git commit -m \"这里写你的提交说明\"\n",
    "\n",
    "# 示例：\n",
    "# git commit -m \"添加数据预处理功能\""
   ]
  },
  {
   "cell_type": "markdown",
   "id": "1d6c51b7",
   "metadata": {},
   "source": [
    "## 10. 🟢 推送到远程仓库\n",
    "\n",
    "将本地的提交推送到远程仓库（GitHub/GitLab），让团队成员看到你的更改。\n",
    "\n",
    "**操作说明：**\n",
    "- 第一次推送新分支需要使用 `--set-upstream` 参数\n",
    "- 之后推送同一分支只需要 `git push`\n",
    "- 推送前建议先 `git pull` 获取最新代码"
   ]
  },
  {
   "cell_type": "code",
   "execution_count": null,
   "id": "6ad079bd",
   "metadata": {
    "vscode": {
     "languageId": "powershell"
    }
   },
   "outputs": [],
   "source": [
    "# 推送到远程仓库（常规操作）\n",
    "git push\n",
    "\n",
    "# 第一次推送新分支（需要关联远程分支）\n",
    "# git push --set-upstream origin 分支名\n",
    "# 或者简写：\n",
    "# git push -u origin 分支名"
   ]
  },
  {
   "cell_type": "markdown",
   "id": "5638ff09",
   "metadata": {},
   "source": [
    "## 11. 🟡 合并分支\n",
    "\n",
    "将其他分支的更改合并到当前分支。通常是将功能分支合并到主分支。\n",
    "\n",
    "**操作说明：**\n",
    "- 先切换到要合并到的目标分支（通常是 main）\n",
    "- 然后执行合并命令\n",
    "- 如果有冲突，需要手动解决（见下一节）\n",
    "\n",
    "**示例流程：**\n",
    "1. 完成功能开发后\n",
    "2. 切换到 main 分支\n",
    "3. 合并功能分支"
   ]
  },
  {
   "cell_type": "code",
   "execution_count": null,
   "id": "66e2f297",
   "metadata": {
    "vscode": {
     "languageId": "powershell"
    }
   },
   "outputs": [],
   "source": [
    "# 第一步：切换到目标分支（如 main）\n",
    "git checkout main\n",
    "\n",
    "# 第二步：拉取最新代码\n",
    "git pull\n",
    "\n",
    "# 第三步：合并指定分支到当前分支\n",
    "git merge 要合并的分支名\n",
    "\n",
    "# 示例：合并 feature-login 分支\n",
    "# git merge feature-login"
   ]
  },
  {
   "cell_type": "markdown",
   "id": "aebd0562",
   "metadata": {},
   "source": [
    "## 12. 🟡 解决冲突\n",
    "\n",
    "当两个人修改了同一个文件的同一部分，合并时会产生冲突，需要手动解决。\n",
    "\n",
    "**冲突标记说明：**\n",
    "```\n",
    "<<<<<<< HEAD\n",
    "你的更改\n",
    "=======\n",
    "别人的更改\n",
    ">>>>>>> 分支名\n",
    "```\n",
    "\n",
    "**解决步骤：**\n",
    "1. 打开冲突文件\n",
    "2. 找到冲突标记（<<<<<<< 和 >>>>>>>）\n",
    "3. 决定保留哪部分代码，删除冲突标记\n",
    "4. 保存文件\n",
    "5. 执行下面的命令"
   ]
  },
  {
   "cell_type": "code",
   "execution_count": null,
   "id": "8bf1124a",
   "metadata": {
    "vscode": {
     "languageId": "powershell"
    }
   },
   "outputs": [],
   "source": [
    "# 第一步：查看哪些文件有冲突\n",
    "git status\n",
    "\n",
    "# 第二步：手动编辑冲突文件，解决冲突后保存\n",
    "\n",
    "# 第三步：添加已解决冲突的文件\n",
    "git add .\n",
    "\n",
    "# 第四步：提交合并\n",
    "git commit -m \"解决合并冲突\"\n",
    "\n",
    "# 第五步：推送到远程\n",
    "git push"
   ]
  },
  {
   "cell_type": "markdown",
   "id": "d4206fb3",
   "metadata": {},
   "source": [
    "## 13. 🔵 查看提交历史\n",
    "\n",
    "查看项目的提交历史，了解谁在什么时候做了什么修改。\n",
    "\n",
    "**操作说明：**\n",
    "- 可以看到所有的提交记录\n",
    "- 按 `q` 键退出查看\n",
    "- 可以看到提交人、时间和提交说明"
   ]
  },
  {
   "cell_type": "code",
   "execution_count": null,
   "id": "2873a72e",
   "metadata": {
    "vscode": {
     "languageId": "powershell"
    }
   },
   "outputs": [],
   "source": [
    "# 查看提交历史\n",
    "git log\n",
    "\n",
    "# 查看简洁版历史（推荐）\n",
    "git log --oneline\n",
    "\n",
    "# 查看最近 5 条提交\n",
    "git log -5\n",
    "\n",
    "# 查看某个文件的提交历史\n",
    "# git log 文件名.txt"
   ]
  },
  {
   "cell_type": "markdown",
   "id": "a8659cdc",
   "metadata": {},
   "source": [
    "## 14. 🟡 撤销工作区的修改\n",
    "\n",
    "撤销还未添加到暂存区的文件修改（恢复到最后一次提交的状态）。\n",
    "\n",
    "**操作说明：**\n",
    "- 这会丢弃所有未暂存的修改，请谨慎使用！\n",
    "- 适用于：改错了想重新来过\n",
    "- 修改会永久丢失，无法恢复"
   ]
  },
  {
   "cell_type": "code",
   "execution_count": null,
   "id": "6f623355",
   "metadata": {
    "vscode": {
     "languageId": "powershell"
    }
   },
   "outputs": [],
   "source": [
    "# 撤销指定文件的修改\n",
    "git restore 文件名\n",
    "\n",
    "# 撤销所有文件的修改\n",
    "git restore .\n",
    "\n",
    "# 旧版本命令（也可用）\n",
    "# git checkout -- 文件名"
   ]
  },
  {
   "cell_type": "markdown",
   "id": "f1f83609",
   "metadata": {},
   "source": [
    "## 15. 🟡 取消暂存的文件\n",
    "\n",
    "将已经 add 到暂存区的文件移出暂存区（但保留修改）。\n",
    "\n",
    "**操作说明：**\n",
    "- 用于：不小心 add 了不想提交的文件\n",
    "- 文件的修改不会丢失，只是从暂存区移除\n",
    "- 之后可以重新选择要 add 的文件"
   ]
  },
  {
   "cell_type": "code",
   "execution_count": null,
   "id": "8086f882",
   "metadata": {
    "vscode": {
     "languageId": "powershell"
    }
   },
   "outputs": [],
   "source": [
    "# 取消指定文件的暂存\n",
    "git restore --staged 文件名\n",
    "\n",
    "# 取消所有文件的暂存\n",
    "git restore --staged .\n",
    "\n",
    "# 旧版本命令（也可用）\n",
    "# git reset HEAD 文件名"
   ]
  },
  {
   "cell_type": "markdown",
   "id": "08b64911",
   "metadata": {},
   "source": [
    "## 16. 🔴 撤销最后一次提交\n",
    "\n",
    "撤销最后一次本地提交（还未 push 到远程）。\n",
    "\n",
    "**⚠️ 危险操作！使用前请三思！**\n",
    "\n",
    "**操作说明：**\n",
    "- `--soft`：撤销提交，但保留修改在暂存区\n",
    "- `--mixed`：撤销提交和暂存，但保留修改在工作区（默认）\n",
    "- `--hard`：完全撤销，修改会丢失（非常危险！）"
   ]
  },
  {
   "cell_type": "code",
   "execution_count": null,
   "id": "ff4d7cd4",
   "metadata": {
    "vscode": {
     "languageId": "powershell"
    }
   },
   "outputs": [],
   "source": [
    "# 撤销提交，保留修改在暂存区（推荐）\n",
    "git reset --soft HEAD~1\n",
    "\n",
    "# 撤销提交和暂存，保留修改在工作区\n",
    "# git reset --mixed HEAD~1\n",
    "\n",
    "# 完全撤销（危险！修改会丢失）\n",
    "# git reset --hard HEAD~1"
   ]
  },
  {
   "cell_type": "markdown",
   "id": "4fa45c10",
   "metadata": {},
   "source": [
    "## 17. 🟢 暂存当前修改\n",
    "\n",
    "临时保存当前修改但不提交，切换到其他分支工作。\n",
    "\n",
    "**操作说明：**\n",
    "- 适用场景：正在开发功能A，突然需要修复紧急bug\n",
    "- 可以暂存当前修改，切换分支修bug，之后再恢复继续开发\n",
    "- 暂存的修改不会影响其他分支"
   ]
  },
  {
   "cell_type": "code",
   "execution_count": null,
   "id": "bbebb4c7",
   "metadata": {
    "vscode": {
     "languageId": "powershell"
    }
   },
   "outputs": [],
   "source": [
    "# 暂存当前所有修改\n",
    "git stash\n",
    "\n",
    "# 或者添加说明（推荐）\n",
    "# git stash save \"正在开发的功能说明\"\n",
    "\n",
    "# 查看所有暂存\n",
    "git stash list\n",
    "\n",
    "# 恢复最近一次暂存的修改\n",
    "# git stash pop\n",
    "\n",
    "# 恢复指定的暂存\n",
    "# git stash apply stash@{0}"
   ]
  },
  {
   "cell_type": "markdown",
   "id": "b63b0447",
   "metadata": {},
   "source": [
    "## 18. 🔵 查看文件修改详情\n",
    "\n",
    "查看文件具体修改了什么内容。\n",
    "\n",
    "**操作说明：**\n",
    "- 红色（-）表示删除的内容\n",
    "- 绿色（+）表示新增的内容\n",
    "- 可以看到具体的代码变化"
   ]
  },
  {
   "cell_type": "code",
   "execution_count": null,
   "id": "56819dda",
   "metadata": {
    "vscode": {
     "languageId": "powershell"
    }
   },
   "outputs": [],
   "source": [
    "# 查看所有未暂存文件的修改\n",
    "git diff\n",
    "\n",
    "# 查看已暂存文件的修改\n",
    "git diff --staged\n",
    "\n",
    "# 查看指定文件的修改\n",
    "# git diff 文件名.py"
   ]
  },
  {
   "cell_type": "markdown",
   "id": "c8bc8d09",
   "metadata": {},
   "source": [
    "## 19. 🟢 删除本地分支\n",
    "\n",
    "删除已经合并完成的本地分支，保持仓库整洁。\n",
    "\n",
    "**操作说明：**\n",
    "- 只能删除已经合并的分支\n",
    "- 不能删除当前所在的分支（需要先切换到其他分支）\n",
    "- 如果分支还未合并，需要使用 `-D`（强制删除）"
   ]
  },
  {
   "cell_type": "code",
   "execution_count": null,
   "id": "5063c808",
   "metadata": {
    "vscode": {
     "languageId": "powershell"
    }
   },
   "outputs": [],
   "source": [
    "# 删除已合并的分支\n",
    "git branch -d 分支名\n",
    "\n",
    "# 强制删除分支（即使未合并）\n",
    "# git branch -D 分支名"
   ]
  },
  {
   "cell_type": "markdown",
   "id": "85f1d0c8",
   "metadata": {},
   "source": [
    "## 20. 🔵 查看远程仓库信息\n",
    "\n",
    "查看关联的远程仓库地址和详细信息。\n",
    "\n",
    "**操作说明：**\n",
    "- 可以看到远程仓库的 URL\n",
    "- 确认是否正确连接到团队仓库"
   ]
  },
  {
   "cell_type": "code",
   "execution_count": null,
   "id": "3345c959",
   "metadata": {
    "vscode": {
     "languageId": "powershell"
    }
   },
   "outputs": [],
   "source": [
    "# 查看远程仓库列表\n",
    "git remote -v\n",
    "\n",
    "# 查看远程仓库详细信息\n",
    "git remote show origin"
   ]
  },
  {
   "cell_type": "markdown",
   "id": "1bf15b6a",
   "metadata": {},
   "source": [
    "## 📋 常用工作流程总结\n",
    "\n",
    "### 日常开发流程：\n",
    "1. **开始工作前**：`git pull` 拉取最新代码\n",
    "2. **创建功能分支**：`git checkout -b feature-xxx`\n",
    "3. **修改代码**（使用编辑器）\n",
    "4. **查看状态**：`git status`\n",
    "5. **添加修改**：`git add .`\n",
    "6. **提交修改**：`git commit -m \"说明\"`\n",
    "7. **推送代码**：`git push -u origin feature-xxx`\n",
    "8. **在 GitHub/GitLab 上创建 Pull Request**\n",
    "9. **合并后删除分支**：`git branch -d feature-xxx`\n",
    "\n",
    "### 紧急修复流程：\n",
    "1. **暂存当前工作**：`git stash`\n",
    "2. **切换到主分支**：`git checkout main`\n",
    "3. **拉取最新代码**：`git pull`\n",
    "4. **创建修复分支**：`git checkout -b hotfix-xxx`\n",
    "5. **修复bug并提交**\n",
    "6. **推送并合并**\n",
    "7. **切换回原分支**：`git checkout 原分支名`\n",
    "8. **恢复工作**：`git stash pop`\n",
    "\n",
    "### 遇到冲突时：\n",
    "1. **执行 pull 或 merge 时提示冲突**\n",
    "2. **打开冲突文件，找到冲突标记**\n",
    "3. **手动编辑，决定保留哪部分代码**\n",
    "4. **删除冲突标记（<<<<<<< ======= >>>>>>>）**\n",
    "5. **保存文件**\n",
    "6. **git add .**\n",
    "7. **git commit -m \"解决冲突\"`\n",
    "8. **git push**"
   ]
  },
  {
   "cell_type": "markdown",
   "id": "6a83ae6a",
   "metadata": {},
   "source": [
    "## ⚠️ 重要注意事项\n",
    "\n",
    "### ✅ 推荐做法：\n",
    "- ✅ 每天开始工作前先 `git pull`\n",
    "- ✅ 频繁提交，每完成一个小功能就提交\n",
    "- ✅ 提交信息要清晰明了\n",
    "- ✅ 在功能分支上开发，不要直接在 main 上修改\n",
    "- ✅ 遇到问题及时沟通，不要乱用 force push\n",
    "\n",
    "### ❌ 避免做法：\n",
    "- ❌ 不要在 main 分支上直接开发\n",
    "- ❌ 不要长时间不提交代码\n",
    "- ❌ 不要使用 `git push --force`（除非你完全知道在做什么）\n",
    "- ❌ 不要提交大型二进制文件（图片、视频等）\n",
    "- ❌ 不要提交敏感信息（密码、密钥等）\n",
    "\n",
    "### 🆘 遇到问题怎么办：\n",
    "1. 不要慌！大部分操作都可以撤销\n",
    "2. 使用 `git status` 查看当前状态\n",
    "3. 使用 `git log` 查看历史\n",
    "4. 如果实在搞不定，保存好代码文件，重新 clone 仓库\n",
    "5. 向团队成员求助\n",
    "\n",
    "---\n",
    "\n",
    "**祝你使用愉快！记住：实践是最好的老师，多用几次就熟练了！** 🎉"
   ]
  }
 ],
 "metadata": {
  "language_info": {
   "name": "python"
  }
 },
 "nbformat": 4,
 "nbformat_minor": 5
}
